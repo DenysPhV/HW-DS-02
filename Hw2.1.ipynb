{
 "cells": [
  {
   "cell_type": "code",
   "execution_count": 31,
   "id": "e5f456d3-d2f7-44b8-a3a6-b9d1d9b0c30b",
   "metadata": {},
   "outputs": [
    {
     "name": "stdout",
     "output_type": "stream",
     "text": [
      "             Регіон  1950  1960  1970  1990  2000  2012  2014  2019\n",
      "0              Крим  23.0  20.6  16.0  13.0   7.3  12.6     —     —\n",
      "1         Вінницька  22.4  19.2  14.2  12.4   8.4  11.2  10.9   7.6\n",
      "2         Волинська  24.7  25.0  17.9  15.3  11.2  14.8  14.1  10.1\n",
      "3  Дніпропетровська  20.4  20.4  15.1  12.3   7.1  11.2  11.1   7.1\n",
      "4          Донецька  27.1  21.4  14.0  10.9   6.1   9.8   8.2     —\n"
     ]
    }
   ],
   "source": [
    "import pandas as pd\n",
    "import numpy as np\n",
    "import re\n",
    "dfs = pd.read_html('https://uk.wikipedia.org/wiki/%D0%9D%D0%B0%D1%81%D0%B5%D0%BB%D0%B5%D0%BD%D0%BD%D1%8F_%D0%A3%D0%BA%D1%80%D0%B0%D1%97%D0%BD%D0%B8', match=re.compile(r'^Коефіцієнт народжуваності в регіонах України \\(1950\\—2019\\)*$', re.I), thousands='', decimal=',')\n",
    "df = dfs[0].head()\n",
    "print(df)"
   ]
  },
  {
   "cell_type": "code",
   "execution_count": 32,
   "id": "714a1d4c-cf45-4c24-b80f-a7e9d2a35757",
   "metadata": {},
   "outputs": [
    {
     "name": "stdout",
     "output_type": "stream",
     "text": [
      "Кількість рядків: 5\n",
      "Кількість стовпців: 9\n"
     ]
    }
   ],
   "source": [
    "shape_info = df.shape\n",
    "print(f\"Кількість рядків: {shape_info[0]}\\nКількість стовпців: {shape_info[1]}\")"
   ]
  },
  {
   "cell_type": "code",
   "execution_count": 33,
   "id": "0db03092-90e0-4d9a-b6f0-f845592e58d5",
   "metadata": {},
   "outputs": [
    {
     "name": "stdout",
     "output_type": "stream",
     "text": [
      "             Регіон  1950  1960  1970  1990  2000  2012  2014  2019\n",
      "0              Крим  23.0  20.6  16.0  13.0   7.3  12.6   NaN   NaN\n",
      "1         Вінницька  22.4  19.2  14.2  12.4   8.4  11.2  10.9   7.6\n",
      "2         Волинська  24.7  25.0  17.9  15.3  11.2  14.8  14.1  10.1\n",
      "3  Дніпропетровська  20.4  20.4  15.1  12.3   7.1  11.2  11.1   7.1\n",
      "4          Донецька  27.1  21.4  14.0  10.9   6.1   9.8   8.2   NaN\n"
     ]
    }
   ],
   "source": [
    "df = df.replace('—', np.nan)\n",
    "print(df)"
   ]
  },
  {
   "cell_type": "code",
   "execution_count": 34,
   "id": "6bfb8d54-0e5d-451b-a9db-89e23c70faa9",
   "metadata": {},
   "outputs": [
    {
     "name": "stdout",
     "output_type": "stream",
     "text": [
      "Регіон     object\n",
      "1950      float64\n",
      "1960      float64\n",
      "1970      float64\n",
      "1990      float64\n",
      "2000      float64\n",
      "2012      float64\n",
      "2014       object\n",
      "2019       object\n",
      "dtype: object\n"
     ]
    }
   ],
   "source": [
    "print(df.dtypes)"
   ]
  },
  {
   "cell_type": "code",
   "execution_count": 35,
   "id": "1f625eb4-66c1-440d-b843-6bc6a2129e3b",
   "metadata": {},
   "outputs": [
    {
     "name": "stdout",
     "output_type": "stream",
     "text": [
      "Регіон     object\n",
      "1950      float64\n",
      "1960      float64\n",
      "1970      float64\n",
      "1990      float64\n",
      "2000      float64\n",
      "2012      float64\n",
      "2014      float64\n",
      "2019      float64\n",
      "dtype: object\n"
     ]
    }
   ],
   "source": [
    "df = df.apply(pd.to_numeric, errors='ignore')\n",
    "print(df.dtypes)"
   ]
  },
  {
   "cell_type": "code",
   "execution_count": 36,
   "id": "c4fb5179-8f60-449c-b03a-e2aad74ab7c9",
   "metadata": {},
   "outputs": [
    {
     "name": "stdout",
     "output_type": "stream",
     "text": [
      "Порахуйте, яка частка пропусків міститься в кожній колонці:\n",
      "Регіон     0.0\n",
      "1950       0.0\n",
      "1960       0.0\n",
      "1970       0.0\n",
      "1990       0.0\n",
      "2000       0.0\n",
      "2012       0.0\n",
      "2014      20.0\n",
      "2019      40.0\n",
      "dtype: float64\n"
     ]
    }
   ],
   "source": [
    "df_percentage = (df.isnull().sum() / len(df)) * 100\n",
    "print(\"Порахуйте, яка частка пропусків міститься в кожній колонці:\")\n",
    "print(df_percentage)"
   ]
  },
  {
   "cell_type": "code",
   "execution_count": 37,
   "id": "46f2bad9-c8c0-42d1-821d-37bf57e01ba6",
   "metadata": {},
   "outputs": [
    {
     "name": "stdout",
     "output_type": "stream",
     "text": [
      "             Регіон  1950  1960  1970  1990  2000  2012  2014  2019\n",
      "0              Крим  23.0  20.6  16.0  13.0   7.3  12.6   NaN   NaN\n",
      "1         Вінницька  22.4  19.2  14.2  12.4   8.4  11.2  10.9   7.6\n",
      "2         Волинська  24.7  25.0  17.9  15.3  11.2  14.8  14.1  10.1\n",
      "3  Дніпропетровська  20.4  20.4  15.1  12.3   7.1  11.2  11.1   7.1\n",
      "4          Донецька  27.1  21.4  14.0  10.9   6.1   9.8   8.2   NaN\n",
      "             Регіон  1950  1960  1970  1990  2000  2012  2014  2019\n",
      "0              Крим  23.0  20.6  16.0  13.0   7.3  12.6   NaN   NaN\n",
      "1         Вінницька  22.4  19.2  14.2  12.4   8.4  11.2  10.9   7.6\n",
      "2         Волинська  24.7  25.0  17.9  15.3  11.2  14.8  14.1  10.1\n",
      "3  Дніпропетровська  20.4  20.4  15.1  12.3   7.1  11.2  11.1   7.1\n"
     ]
    }
   ],
   "source": [
    "print(df)\n",
    "df = df.drop(df.index[-1])\n",
    "print(df)"
   ]
  },
  {
   "cell_type": "code",
   "execution_count": 38,
   "id": "e739d040-3bc1-4e97-bf95-7c805854bd0d",
   "metadata": {},
   "outputs": [
    {
     "name": "stdout",
     "output_type": "stream",
     "text": [
      "   Регіон  1950  1960  1970  1990  2000  2012       2014       2019\n",
      "0     NaN  23.0  20.6  16.0  13.0   7.3  12.6  12.033333   8.266667\n",
      "1     NaN  22.4  19.2  14.2  12.4   8.4  11.2  10.900000   7.600000\n",
      "2     NaN  24.7  25.0  17.9  15.3  11.2  14.8  14.100000  10.100000\n",
      "3     NaN  20.4  20.4  15.1  12.3   7.1  11.2  11.100000   7.100000\n"
     ]
    }
   ],
   "source": [
    "# Cтрічкові стовпці до числового типу\n",
    "for col in df.columns:\n",
    "    try:\n",
    "        df[col] = pd.to_numeric(df[col], errors='coerce')\n",
    "    except ValueError:\n",
    "        pass\n",
    "\n",
    "# Заміняю NaN на середні значення\n",
    "df.fillna(df.mean(), inplace=True)\n",
    "print(df)"
   ]
  },
  {
   "cell_type": "code",
   "execution_count": 39,
   "id": "7be3e5fd-5390-425d-8bc7-c2b11904f00d",
   "metadata": {},
   "outputs": [
    {
     "name": "stdout",
     "output_type": "stream",
     "text": [
      "Регіони з народжуваністю у 2019 році вище середньої народжуваності України:\n",
      "2   NaN\n",
      "Name: Регіон, dtype: float64\n"
     ]
    }
   ],
   "source": [
    "regions_above_mean_2019 = df[df['2019'].notna() & (df['2019'] > df['2019'].mean())]['Регіон']\n",
    "print(\"Регіони з народжуваністю у 2019 році вище середньої народжуваності України:\")\n",
    "print(regions_above_mean_2019)"
   ]
  },
  {
   "cell_type": "code",
   "execution_count": 40,
   "id": "3637fa36-3bf1-4606-a3b3-d0d753765a7c",
   "metadata": {},
   "outputs": [
    {
     "name": "stdout",
     "output_type": "stream",
     "text": [
      "Регіон з найвищою народжуваністю у 2014 році:\n",
      "2   NaN\n",
      "Name: Регіон, dtype: float64\n"
     ]
    }
   ],
   "source": [
    "region_max_birthrate_2014 = df[df['2014'] == df['2014'].max()]['Регіон']\n",
    "print(\"Регіон з найвищою народжуваністю у 2014 році:\")\n",
    "print(region_max_birthrate_2014)"
   ]
  },
  {
   "cell_type": "code",
   "execution_count": 41,
   "id": "d7a78d0c-9b9a-49f2-afa3-7e50fe311e34",
   "metadata": {},
   "outputs": [
    {
     "data": {
      "image/png": "[encoded data removed]",
      "text/plain": [
       "<Figure size 1000x500 with 1 Axes>"
      ]
     },
     "metadata": {},
     "output_type": "display_data"
    }
   ],
   "source": [
    "import matplotlib.pyplot as plt\n",
    "\n",
    "# Перейменовуємо стовпці з роками та вибираємо дані за 2019 рік\n",
    "df.rename(columns=lambda x: x.replace(' ', '_'), inplace=True)\n",
    "data_2019 = df[['2019']]\n",
    "\n",
    "# Видаляємо рядок зі значеннями '—'\n",
    "data_2019 = data_2019[data_2019['2019'] != '—']\n",
    "\n",
    "# Змінюємо тип стовпця '2019' на числовий\n",
    "data_2019['2019'] = data_2019['2019'].astype(float)\n",
    "\n",
    "# Виводимо графік\n",
    "data_2019.plot(kind='bar', figsize=(10, 5), title='Народжуваність по регіонах України у 2019 році')\n",
    "plt.show()\n",
    "\n"
   ]
  },
  {
   "cell_type": "code",
   "execution_count": null,
   "id": "e742db35-272e-451f-ab67-eb7588e33ca4",
   "metadata": {},
   "outputs": [],
   "source": []
  }
 ],
 "metadata": {
  "kernelspec": {
   "display_name": "Python 3 (ipykernel)",
   "language": "python",
   "name": "python3"
  },
  "language_info": {
   "codemirror_mode": {
    "name": "ipython",
    "version": 3
   },
   "file_extension": ".py",
   "mimetype": "text/x-python",
   "name": "python",
   "nbconvert_exporter": "python",
   "pygments_lexer": "ipython3",
   "version": "3.11.3"
  }
 },
 "nbformat": 4,
 "nbformat_minor": 5
}
