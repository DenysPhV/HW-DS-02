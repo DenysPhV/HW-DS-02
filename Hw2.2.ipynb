{
 "cells": [
  {
   "cell_type": "code",
   "execution_count": 84,
   "id": "9b47ab18-a39f-4655-b8b7-f0356223c11d",
   "metadata": {},
   "outputs": [
    {
     "name": "stdout",
     "output_type": "stream",
     "text": [
      "         N                 Должность Язык.программирования Специализация  \\\n",
      "0        1        Junior QA engineer                   NaN     Manual QA   \n",
      "1        2        Junior QA engineer                   NaN     Manual QA   \n",
      "2        3         Software Engineer               C#/.NET           NaN   \n",
      "3        4         Software Engineer            JavaScript           NaN   \n",
      "4        5  Senior Software Engineer            JavaScript           NaN   \n",
      "...    ...                       ...                   ...           ...   \n",
      "8699  8700               QA engineer                   NaN     Manual QA   \n",
      "8700  8701                 Marketing                   NaN           NaN   \n",
      "8701  8702  Junior Software Engineer            Ruby/Rails           NaN   \n",
      "8702  8703                 Team lead                   NaN           NaN   \n",
      "8703  8704  Senior Software Engineer                  Java           NaN   \n",
      "\n",
      "     Общий.опыт.работы Опыт.работы.на.текущем.месте  Зарплата.в.месяц  \\\n",
      "0                  0.5                          0.5               400   \n",
      "1     меньше 3 месяцев             меньше 3 месяцев               430   \n",
      "2                    4                            1              2500   \n",
      "3                    5                            4              2000   \n",
      "4       10 и более лет                          0.5              4500   \n",
      "...                ...                          ...               ...   \n",
      "8699                 1             меньше 3 месяцев               700   \n",
      "8700               0.5                          0.5               400   \n",
      "8701                 1                          0.5               800   \n",
      "8702                 6                            4              2600   \n",
      "8703                 7                            2              5000   \n",
      "\n",
      "      Изменение.зарплаты.за.12.месяцев    Город     Размер.компании  ...  \\\n",
      "0                                    0  Харьков       до 10 человек  ...   \n",
      "1                                  130  Харьков  свыше 1000 человек  ...   \n",
      "2                                  800     Киев     до 1000 человек  ...   \n",
      "3                                  400   Одесса      до 200 человек  ...   \n",
      "4                                  500   Другой       до 10 человек  ...   \n",
      "...                                ...      ...                 ...  ...   \n",
      "8699                               700   Одесса       до 50 человек  ...   \n",
      "8700                               120     Киев       до 50 человек  ...   \n",
      "8701                               500    Львов       до 10 человек  ...   \n",
      "8702                                 0    Днепр  свыше 1000 человек  ...   \n",
      "8703                               800   Одесса     до 1000 человек  ...   \n",
      "\n",
      "     Еще.студент Уровень.английского                    Предметная.область  \\\n",
      "0           True       ниже среднего                         iOS,eCommerce   \n",
      "1           True       выше среднего                        Веб-разработка   \n",
      "2          False             средний  Веб-разработка,Корпоративные системы   \n",
      "3          False       ниже среднего   Desktop Applications,Веб-разработка   \n",
      "4          False             средний   Desktop Applications,Веб-разработка   \n",
      "...          ...                 ...                                   ...   \n",
      "8699       False             средний          Android,Desktop Applications   \n",
      "8700       False       ниже среднего                             eCommerce   \n",
      "8701       False       выше среднего  Веб-разработка,Корпоративные системы   \n",
      "8702       False         продвинутый                       Финансы и банки   \n",
      "8703       False       выше среднего                        Веб-разработка   \n",
      "\n",
      "          Дата.заполнения                                         User.Agent  \\\n",
      "0     12/06/2017 12:38:08  Mozilla/5.0 (Windows NT 10.0; Win64; x64) Appl...   \n",
      "1     12/06/2017 12:42:51  Mozilla/5.0 (iPad; CPU OS 10_2_1 like Mac OS X...   \n",
      "2     12/06/2017 13:02:47  Mozilla/5.0 (Windows NT 10.0; Win64; x64) Appl...   \n",
      "3     12/06/2017 13:03:01  Mozilla/5.0 (Windows NT 6.1; Win64; x64) Apple...   \n",
      "4     12/06/2017 13:03:47  Mozilla/5.0 (iPhone; CPU iPhone OS 10_3_2 like...   \n",
      "...                   ...                                                ...   \n",
      "8699  12/07/2017 15:45:24  Mozilla/5.0 (X11; Ubuntu; Linux x86_64; rv:54....   \n",
      "8700  12/07/2017 17:00:06  Mozilla/5.0 (Windows NT 10.0; Win64; x64) Appl...   \n",
      "8701  12/07/2017 17:32:26  Mozilla/5.0 (X11; Linux x86_64) AppleWebKit/53...   \n",
      "8702  12/07/2017 18:14:59  Mozilla/5.0 (Windows NT 6.1) AppleWebKit/537.3...   \n",
      "8703  12/07/2017 21:28:57  Mozilla/5.0 (iPad; CPU OS 10_3_2 like Mac OS X...   \n",
      "\n",
      "       exp current_job_exp salary Валюта  cls  \n",
      "0      0.5             0.5    400    NaN   QA  \n",
      "1      0.0             0.0    430    NaN   QA  \n",
      "2      4.0             1.0   2500    NaN  DEV  \n",
      "3      5.0             4.0   2000    NaN  DEV  \n",
      "4     10.0             0.5   4500    NaN  DEV  \n",
      "...    ...             ...    ...    ...  ...  \n",
      "8699   1.0             0.0    700    NaN   QA  \n",
      "8700   0.5             0.5    400    NaN  NaN  \n",
      "8701   1.0             0.5    800    NaN  DEV  \n",
      "8702   6.0             4.0   2600    NaN   PM  \n",
      "8703   7.0             2.0   5000    NaN  DEV  \n",
      "\n",
      "[8704 rows x 25 columns]\n"
     ]
    }
   ],
   "source": [
    "import pandas as pd\n",
    "file_csv = pd.read_csv(\"2017_jun_final.csv\")\n",
    "file_csv.head\n",
    "print(file_csv)"
   ]
  },
  {
   "cell_type": "code",
   "execution_count": 62,
   "id": "9c8c6edd-957d-4909-a713-8c3f3c539ec8",
   "metadata": {},
   "outputs": [
    {
     "name": "stdout",
     "output_type": "stream",
     "text": [
      "Кількість рядків: 8704\n",
      "Кількість стовпців: 25\n"
     ]
    }
   ],
   "source": [
    "shape_info = file_csv.shape\n",
    "print(f\"Кількість рядків: {shape_info[0]}\\nКількість стовпців: {shape_info[1]}\")"
   ]
  },
  {
   "cell_type": "code",
   "execution_count": 63,
   "id": "d7ab1be4-f5fc-4896-a38c-d47d8fd9368b",
   "metadata": {},
   "outputs": [
    {
     "name": "stdout",
     "output_type": "stream",
     "text": [
      "N                                     int64\n",
      "Должность                            object\n",
      "Язык.программирования                object\n",
      "Специализация                        object\n",
      "Общий.опыт.работы                    object\n",
      "Опыт.работы.на.текущем.месте         object\n",
      "Зарплата.в.месяц                      int64\n",
      "Изменение.зарплаты.за.12.месяцев      int64\n",
      "Город                                object\n",
      "Размер.компании                      object\n",
      "Тип.компании                         object\n",
      "Пол                                  object\n",
      "Возраст                               int64\n",
      "Образование                          object\n",
      "Университет                          object\n",
      "Еще.студент                            bool\n",
      "Уровень.английского                  object\n",
      "Предметная.область                   object\n",
      "Дата.заполнения                      object\n",
      "User.Agent                           object\n",
      "exp                                 float64\n",
      "current_job_exp                     float64\n",
      "salary                                int64\n",
      "Валюта                               object\n",
      "cls                                  object\n",
      "dtype: object\n"
     ]
    }
   ],
   "source": [
    "dataframe = file_csv.dtypes\n",
    "print(dataframe)"
   ]
  },
  {
   "cell_type": "code",
   "execution_count": 64,
   "id": "4b0e6e83-ab44-4d61-a005-12a782b57d66",
   "metadata": {},
   "outputs": [
    {
     "name": "stdout",
     "output_type": "stream",
     "text": [
      "N                                    0.000000\n",
      "Должность                            0.000000\n",
      "Язык.программирования               44.232537\n",
      "Специализация                       82.938879\n",
      "Общий.опыт.работы                    0.000000\n",
      "Опыт.работы.на.текущем.месте         0.000000\n",
      "Зарплата.в.месяц                     0.000000\n",
      "Изменение.зарплаты.за.12.месяцев     0.000000\n",
      "Город                                0.000000\n",
      "Размер.компании                      0.000000\n",
      "Тип.компании                         0.000000\n",
      "Пол                                  0.000000\n",
      "Возраст                              0.000000\n",
      "Образование                          0.000000\n",
      "Университет                          4.113051\n",
      "Еще.студент                          0.000000\n",
      "Уровень.английского                  0.000000\n",
      "Предметная.область                   2.562040\n",
      "Дата.заполнения                      0.000000\n",
      "User.Agent                           0.000000\n",
      "exp                                  0.000000\n",
      "current_job_exp                      0.000000\n",
      "salary                               0.000000\n",
      "Валюта                              99.885110\n",
      "cls                                 18.083640\n",
      "dtype: float64\n"
     ]
    }
   ],
   "source": [
    "df_percentage = (file_csv.isnull().sum() / len(file_csv)) * 100\n",
    "print(df_percentage)"
   ]
  },
  {
   "cell_type": "code",
   "execution_count": 78,
   "id": "cc2e49b9-1527-4026-b773-e8d24589ec2e",
   "metadata": {},
   "outputs": [
    {
     "name": "stdout",
     "output_type": "stream",
     "text": [
      "     Язык.программирования\n",
      "2                  C#/.NET\n",
      "3               JavaScript\n",
      "4               JavaScript\n",
      "6                  C#/.NET\n",
      "7                      C++\n",
      "...                    ...\n",
      "8692                  Java\n",
      "8694               C#/.NET\n",
      "8695                Python\n",
      "8701            Ruby/Rails\n",
      "8703                  Java\n",
      "\n",
      "[4854 rows x 1 columns]\n"
     ]
    }
   ],
   "source": [
    "# Видаліть усі стовпці з пропусками, крім стовпця \"Мова програмування\"\n",
    "delf = file_csv.drop([\"N\", \"Должность\", \"Специализация\", \"Общий.опыт.работы\", \"Опыт.работы.на.текущем.месте\", \"Зарплата.в.месяц\", \"Изменение.зарплаты.за.12.месяцев\", \"Город\", \"Размер.компании\", \"Тип.компании\", \"Пол\", \"Возраст\", \"Образование\", \"Университет\", \"Еще.студент\", \"Уровень.английского\", \"Предметная.область\", \"Дата.заполнения\", \"User.Agent\", \"exp\",  \"current_job_exp\",  \"salary\", \"Валюта\",  \"cls\"], axis=1)\n",
    "print(delf)"
   ]
  },
  {
   "cell_type": "code",
   "execution_count": 85,
   "id": "d892b669-eecc-4ab5-af37-c6c62bf4af1c",
   "metadata": {},
   "outputs": [
    {
     "name": "stdout",
     "output_type": "stream",
     "text": [
      "Язык.программирования    0.0\n",
      "dtype: float64\n"
     ]
    }
   ],
   "source": [
    "delf_percentage = (delf.isnull().sum() / len(delf)) * 100\n",
    "print(delf_percentage)"
   ]
  },
  {
   "cell_type": "code",
   "execution_count": 82,
   "id": "650df789-a971-4981-a35f-1c83973b5b6e",
   "metadata": {},
   "outputs": [
    {
     "name": "stdout",
     "output_type": "stream",
     "text": [
      "Язык.программирования    0.0\n",
      "dtype: float64\n"
     ]
    }
   ],
   "source": [
    "# Видаліть усі рядки у вихідній таблиці за допомогою методу dropna\n",
    "print(delf_percentage.dropna(how='all'))"
   ]
  },
  {
   "cell_type": "code",
   "execution_count": 86,
   "id": "8a74bb33-6734-4de3-9fbe-05fe1d3a83a3",
   "metadata": {},
   "outputs": [
    {
     "name": "stdout",
     "output_type": "stream",
     "text": [
      "(1,)\n"
     ]
    }
   ],
   "source": [
    "# Визначте новий розмір таблиці за допомогою методу shape\n",
    "shape_sec = delf_percentage.shape\n",
    "print(shape_sec)"
   ]
  },
  {
   "cell_type": "code",
   "execution_count": 92,
   "id": "30785fde-83e5-4316-8f7e-e078ed4cbe29",
   "metadata": {},
   "outputs": [
    {
     "name": "stdout",
     "output_type": "stream",
     "text": [
      "         N                 Должность Язык.программирования Специализация  \\\n",
      "12      13         Software Engineer                Python           NaN   \n",
      "68      69         Software Engineer                Python           NaN   \n",
      "87      88  Junior Software Engineer                Python           NaN   \n",
      "114    115  Junior Software Engineer                Python           NaN   \n",
      "143    144  Junior Software Engineer                Python           NaN   \n",
      "...    ...                       ...                   ...           ...   \n",
      "8546  8547         Software Engineer                Python           NaN   \n",
      "8625  8626         Software Engineer                Python           NaN   \n",
      "8635  8636  Senior Software Engineer                Python           NaN   \n",
      "8673  8674  Junior Software Engineer                Python           NaN   \n",
      "8695  8696         Software Engineer                Python           NaN   \n",
      "\n",
      "     Общий.опыт.работы Опыт.работы.на.текущем.месте  Зарплата.в.месяц  \\\n",
      "12                   1             меньше 3 месяцев               800   \n",
      "68                 1.5                          0.5               900   \n",
      "87                 0.5                          0.5               600   \n",
      "114                1.5                          0.5               685   \n",
      "143                  1                            1               750   \n",
      "...                ...                          ...               ...   \n",
      "8546                 5                            1              2000   \n",
      "8625                 4                            1              1750   \n",
      "8635    10 и более лет             меньше 3 месяцев              4000   \n",
      "8673               0.5                          0.5               350   \n",
      "8695                 1                          0.5              1500   \n",
      "\n",
      "      Изменение.зарплаты.за.12.месяцев      Город     Размер.компании  ...  \\\n",
      "12                                 200       Киев       до 50 человек  ...   \n",
      "68                                 900       Киев       до 10 человек  ...   \n",
      "87                                   0       Киев       до 10 человек  ...   \n",
      "114                                250       Киев     до 1000 человек  ...   \n",
      "143                                250       Киев       до 10 человек  ...   \n",
      "...                                ...        ...                 ...  ...   \n",
      "8546                               800  Запорожье       до 50 человек  ...   \n",
      "8625                                 0       Киев  свыше 1000 человек  ...   \n",
      "8635                              1300   Удаленно       до 10 человек  ...   \n",
      "8673                                50       Киев       до 50 человек  ...   \n",
      "8695                              1000       Киев       до 10 человек  ...   \n",
      "\n",
      "     Еще.студент Уровень.английского         Предметная.область  \\\n",
      "12         False       ниже среднего      Веб-разработка,Другое   \n",
      "68          True       выше среднего             Веб-разработка   \n",
      "87          True       выше среднего   Веб-разработка,eCommerce   \n",
      "114        False             средний                     Другое   \n",
      "143         True       выше среднего             Веб-разработка   \n",
      "...          ...                 ...                        ...   \n",
      "8546       False             средний             Веб-разработка   \n",
      "8625       False             средний             Веб-разработка   \n",
      "8635       False       выше среднего             Веб-разработка   \n",
      "8673       False             средний             Веб-разработка   \n",
      "8695       False             средний  Финансы и банки,eCommerce   \n",
      "\n",
      "          Дата.заполнения                                         User.Agent  \\\n",
      "12    12/06/2017 13:05:54  Mozilla/5.0 (Windows NT 6.1; Win64; x64) Apple...   \n",
      "68    12/06/2017 13:11:17  Mozilla/5.0 (Windows NT 10.0; Win64; x64) Appl...   \n",
      "87    12/06/2017 13:12:25  Mozilla/5.0 (X11; Linux x86_64) AppleWebKit/53...   \n",
      "114   12/06/2017 13:14:52  Mozilla/5.0 (X11; Linux x86_64) AppleWebKit/53...   \n",
      "143   12/06/2017 13:19:10  Mozilla/5.0 (X11; Linux x86_64) AppleWebKit/53...   \n",
      "...                   ...                                                ...   \n",
      "8546  10/07/2017 14:11:26  Mozilla/5.0 (Macintosh; Intel Mac OS X 10_12_5...   \n",
      "8625  11/07/2017 16:15:40  Mozilla/5.0 (X11; Ubuntu; Linux x86_64; rv:54....   \n",
      "8635  11/07/2017 17:51:36  Mozilla/5.0 (X11; Linux x86_64) AppleWebKit/53...   \n",
      "8673  12/07/2017 09:37:16  Mozilla/5.0 (X11; Ubuntu; Linux x86_64; rv:54....   \n",
      "8695  12/07/2017 14:39:21  Mozilla/5.0 (X11; Linux x86_64) AppleWebKit/53...   \n",
      "\n",
      "       exp current_job_exp salary Валюта  cls  \n",
      "12     1.0             0.0    800    NaN  DEV  \n",
      "68     1.5             0.5    900    NaN  DEV  \n",
      "87     0.5             0.5    600    NaN  DEV  \n",
      "114    1.5             0.5    685    NaN  DEV  \n",
      "143    1.0             1.0    750    NaN  DEV  \n",
      "...    ...             ...    ...    ...  ...  \n",
      "8546   5.0             1.0   2000    NaN  DEV  \n",
      "8625   4.0             1.0   1750    NaN  DEV  \n",
      "8635  10.0             0.0   4000    NaN  DEV  \n",
      "8673   0.5             0.5    350    NaN  DEV  \n",
      "8695   1.0             0.5   1500    NaN  DEV  \n",
      "\n",
      "[207 rows x 25 columns]\n"
     ]
    }
   ],
   "source": [
    "# Створіть нову таблицю python_data, в якій будуть тільки рядки зі спеціалістами, які вказали мову програмування Python\n",
    "python_data = file_csv[file_csv['Язык.программирования'] == 'Python']\n",
    "print(python_data)"
   ]
  },
  {
   "cell_type": "code",
   "execution_count": 98,
   "id": "54346dc8-e133-4139-8063-fada96aa83ab",
   "metadata": {},
   "outputs": [
    {
     "name": "stdout",
     "output_type": "stream",
     "text": [
      "(207, 25)\n"
     ]
    }
   ],
   "source": [
    "# Визначте розмір таблиці python_data за допомогою методу shape\n",
    "shape_trd = python_data.shape\n",
    "print(shape_trd)"
   ]
  },
  {
   "cell_type": "code",
   "execution_count": 97,
   "id": "cbf5a386-b5cd-4dbc-93fa-bae96e0b79ee",
   "metadata": {},
   "outputs": [
    {
     "name": "stdout",
     "output_type": "stream",
     "text": [
      "<pandas.core.groupby.generic.DataFrameGroupBy object at 0x0000021B941A9850>\n"
     ]
    }
   ],
   "source": [
    "# Використовуючи метод groupby, виконайте групування за стовпчиком \"Посада\"\n",
    "grouped_by_position = python_data.groupby(\"Должность\")\n",
    "print(grouped_by_position)"
   ]
  },
  {
   "cell_type": "code",
   "execution_count": 100,
   "id": "b91f8419-4990-40e3-bb8b-d9a07b46fadd",
   "metadata": {},
   "outputs": [
    {
     "name": "stdout",
     "output_type": "stream",
     "text": [
      "                  Должность   min   max\n",
      "0  Junior Software Engineer   100  1250\n",
      "1  Senior Software Engineer  1300  9200\n",
      "2         Software Engineer   500  5400\n",
      "3          System Architect  3000  5000\n",
      "4            Technical Lead  1425  6200\n"
     ]
    }
   ],
   "source": [
    "# Створіть новий DataFrame, де для згрупованих даних за стовпчиком \"Посада\", виконайте агрегацію даних за допомогою методу agg \n",
    "# і знайдіть мінімальне та максимальне значення у стовпчику \"Зарплата.в.місяць\"\n",
    "aggregated_data = grouped_by_position['Зарплата.в.месяц'].agg(['min', 'max']).reset_index()\n",
    "print(aggregated_data)"
   ]
  },
  {
   "cell_type": "code",
   "execution_count": 110,
   "id": "266c8ea2-ef4e-49c6-8fd8-f82aacbf137a",
   "metadata": {},
   "outputs": [
    {
     "name": "stdout",
     "output_type": "stream",
     "text": [
      "                  Должность   min   max     avg\n",
      "0  Junior Software Engineer   100  1250   675.0\n",
      "1  Senior Software Engineer  1300  9200  5250.0\n",
      "2         Software Engineer   500  5400  2950.0\n",
      "3          System Architect  3000  5000  4000.0\n",
      "4            Technical Lead  1425  6200  3812.5\n"
     ]
    }
   ],
   "source": [
    "# Створіть функцію fill_avg_salary, яка повертатиме середнє значення заробітної плати на місяць.\n",
    "# Використовуйте її для методу apply та створіть новий стовпчик \"avg\"\n",
    "# Функція для обчислення середньої зарплати\n",
    "def fill_avg_salary(aggregated_data):\n",
    "    return (aggregated_data['min'] + aggregated_data['max']) / 2\n",
    "\n",
    "# Застосування функції до створення нового стовпчика \"avg\"\n",
    "aggregated_data['avg'] = aggregated_data.apply(fill_avg_salary, axis=1)\n",
    "print(aggregated_data)"
   ]
  },
  {
   "cell_type": "code",
   "execution_count": 111,
   "id": "d20aa1bd-ec64-42d0-ab2b-019f67b23bf1",
   "metadata": {},
   "outputs": [
    {
     "name": "stdout",
     "output_type": "stream",
     "text": [
      "count       5.000000\n",
      "mean     3337.500000\n",
      "std      1700.091909\n",
      "min       675.000000\n",
      "25%      2950.000000\n",
      "50%      3812.500000\n",
      "75%      4000.000000\n",
      "max      5250.000000\n",
      "Name: avg, dtype: float64\n"
     ]
    }
   ],
   "source": [
    "# Створіть описову статистику за допомогою методу describe для нового стовпчика.\n",
    "avg_stats = aggregated_data['avg'].describe()\n",
    "print(avg_stats)"
   ]
  },
  {
   "cell_type": "code",
   "execution_count": 112,
   "id": "5dda76f5-e036-4e99-aa7e-7579826b4514",
   "metadata": {},
   "outputs": [],
   "source": [
    "# Збережіть отриману таблицю в CSV файл\n",
    "avg_stats.to_csv('python_data_with_avg.csv', index=False)"
   ]
  }
 ],
 "metadata": {
  "kernelspec": {
   "display_name": "Python 3 (ipykernel)",
   "language": "python",
   "name": "python3"
  },
  "language_info": {
   "codemirror_mode": {
    "name": "ipython",
    "version": 3
   },
   "file_extension": ".py",
   "mimetype": "text/x-python",
   "name": "python",
   "nbconvert_exporter": "python",
   "pygments_lexer": "ipython3",
   "version": "3.11.3"
  }
 },
 "nbformat": 4,
 "nbformat_minor": 5
}
