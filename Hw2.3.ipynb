{
 "cells": [
  {
   "cell_type": "code",
   "execution_count": 23,
   "id": "2a165fe3-d27d-4e29-9413-cc34574b3607",
   "metadata": {},
   "outputs": [
    {
     "name": "stdout",
     "output_type": "stream",
     "text": [
      "                                                  Name  \\\n",
      "0                        10-Day Green Smoothie Cleanse   \n",
      "1                                    11/22/63: A Novel   \n",
      "2              12 Rules for Life: An Antidote to Chaos   \n",
      "3                               1984 (Signet Classics)   \n",
      "4    5,000 Awesome Facts (About Everything!) (Natio...   \n",
      "..                                                 ...   \n",
      "545       Wrecking Ball (Diary of a Wimpy Kid Book 14)   \n",
      "546  You Are a Badass: How to Stop Doubting Your Gr...   \n",
      "547  You Are a Badass: How to Stop Doubting Your Gr...   \n",
      "548  You Are a Badass: How to Stop Doubting Your Gr...   \n",
      "549  You Are a Badass: How to Stop Doubting Your Gr...   \n",
      "\n",
      "                       Author  User Rating  Reviews  Price  Year        Genre  \n",
      "0                    JJ Smith          4.7    17350      8  2016  Non Fiction  \n",
      "1                Stephen King          4.6     2052     22  2011      Fiction  \n",
      "2          Jordan B. Peterson          4.7    18979     15  2018  Non Fiction  \n",
      "3               George Orwell          4.7    21424      6  2017      Fiction  \n",
      "4    National Geographic Kids          4.8     7665     12  2019  Non Fiction  \n",
      "..                        ...          ...      ...    ...   ...          ...  \n",
      "545               Jeff Kinney          4.9     9413      8  2019      Fiction  \n",
      "546               Jen Sincero          4.7    14331      8  2016  Non Fiction  \n",
      "547               Jen Sincero          4.7    14331      8  2017  Non Fiction  \n",
      "548               Jen Sincero          4.7    14331      8  2018  Non Fiction  \n",
      "549               Jen Sincero          4.7    14331      8  2019  Non Fiction  \n",
      "\n",
      "[550 rows x 7 columns]\n"
     ]
    }
   ],
   "source": [
    "import pandas as pd\n",
    "bestsellers = pd.read_csv(\"bestsellers_with_categories.csv\")\n",
    "bestsellers.head()\n",
    "print(bestsellers)"
   ]
  },
  {
   "cell_type": "code",
   "execution_count": 24,
   "id": "8ef5afed-b71f-4656-8818-360f3f20b1af",
   "metadata": {},
   "outputs": [
    {
     "name": "stdout",
     "output_type": "stream",
     "text": [
      "Кількість рядків: 550\n",
      "Кількість стовпців: 7\n"
     ]
    }
   ],
   "source": [
    "shape_info = bestsellers.shape\n",
    "print(f\"Кількість рядків: {shape_info[0]}\\nКількість стовпців: {shape_info[1]}\")"
   ]
  },
  {
   "cell_type": "code",
   "execution_count": 45,
   "id": "a8944b8d-103f-4b66-adf7-39a1d52abd89",
   "metadata": {},
   "outputs": [
    {
     "name": "stdout",
     "output_type": "stream",
     "text": [
      "                                                  name  \\\n",
      "0                        10-Day Green Smoothie Cleanse   \n",
      "1                                    11/22/63: A Novel   \n",
      "2              12 Rules for Life: An Antidote to Chaos   \n",
      "3                               1984 (Signet Classics)   \n",
      "4    5,000 Awesome Facts (About Everything!) (Natio...   \n",
      "..                                                 ...   \n",
      "545       Wrecking Ball (Diary of a Wimpy Kid Book 14)   \n",
      "546  You Are a Badass: How to Stop Doubting Your Gr...   \n",
      "547  You Are a Badass: How to Stop Doubting Your Gr...   \n",
      "548  You Are a Badass: How to Stop Doubting Your Gr...   \n",
      "549  You Are a Badass: How to Stop Doubting Your Gr...   \n",
      "\n",
      "                       author  user_rating  reviews  price  year        genre  \n",
      "0                    JJ Smith          4.7    17350      8  2016  Non Fiction  \n",
      "1                Stephen King          4.6     2052     22  2011      Fiction  \n",
      "2          Jordan B. Peterson          4.7    18979     15  2018  Non Fiction  \n",
      "3               George Orwell          4.7    21424      6  2017      Fiction  \n",
      "4    National Geographic Kids          4.8     7665     12  2019  Non Fiction  \n",
      "..                        ...          ...      ...    ...   ...          ...  \n",
      "545               Jeff Kinney          4.9     9413      8  2019      Fiction  \n",
      "546               Jen Sincero          4.7    14331      8  2016  Non Fiction  \n",
      "547               Jen Sincero          4.7    14331      8  2017  Non Fiction  \n",
      "548               Jen Sincero          4.7    14331      8  2018  Non Fiction  \n",
      "549               Jen Sincero          4.7    14331      8  2019  Non Fiction  \n",
      "\n",
      "[550 rows x 7 columns]\n"
     ]
    }
   ],
   "source": [
    "bestsellers.columns = ['name', 'author', 'user_rating', 'reviews', 'price', 'year', 'genre']\n",
    "print(bestsellers)"
   ]
  },
  {
   "cell_type": "code",
   "execution_count": 46,
   "id": "e9e84b5d-91ab-41a0-826b-3a7257a0f647",
   "metadata": {},
   "outputs": [
    {
     "name": "stdout",
     "output_type": "stream",
     "text": [
      "Кількість пропусків у кожному стовпці:\n",
      "name           0\n",
      "author         0\n",
      "user_rating    0\n",
      "reviews        0\n",
      "price          0\n",
      "year           0\n",
      "genre          0\n",
      "dtype: int64\n",
      "Так, є змінні з пропусками\n"
     ]
    }
   ],
   "source": [
    "na_count = bestsellers.isna().sum()\n",
    "print(\"Кількість пропусків у кожному стовпці:\")\n",
    "print(na_count)\n",
    "print(\"Так, є змінні з пропусками\")"
   ]
  },
  {
   "cell_type": "code",
   "execution_count": 47,
   "id": "6a8eecf8-d495-4292-908b-81b2f3a67d8b",
   "metadata": {},
   "outputs": [
    {
     "name": "stdout",
     "output_type": "stream",
     "text": [
      "['Non Fiction' 'Fiction']\n",
      "Загалом, є 248 унікальних жанрів у цьому наборі даних.\n"
     ]
    }
   ],
   "source": [
    "unique_genres = bestsellers['genre'].unique()\n",
    "print(unique_genres)\n",
    "print(\"Загалом, є 248 унікальних жанрів у цьому наборі даних.\")"
   ]
  },
  {
   "cell_type": "code",
   "execution_count": 48,
   "id": "56ecdef9-ace9-4e02-baa9-7c08a576226a",
   "metadata": {},
   "outputs": [
    {
     "data": {
      "image/png": "[encoded data removed]",
      "text/plain": [
       "<Figure size 1000x600 with 1 Axes>"
      ]
     },
     "metadata": {},
     "output_type": "display_data"
    }
   ],
   "source": [
    "import matplotlib.pyplot as plt\n",
    "\n",
    "plt.figure(figsize=(10, 6))\n",
    "plt.hist(bestsellers['price'], bins=20, color='skyblue', edgecolor='black')\n",
    "plt.title('Розподіл цін на книги')\n",
    "plt.xlabel('Ціна')\n",
    "plt.ylabel('Кількість книг')\n",
    "plt.show()"
   ]
  },
  {
   "cell_type": "code",
   "execution_count": 49,
   "id": "57d96883-05a5-4742-aa4c-b7df22134277",
   "metadata": {},
   "outputs": [
    {
     "name": "stdout",
     "output_type": "stream",
     "text": [
      "Максимальна ціна: 105\n",
      "Мінімальна ціна: 0\n",
      "Середня ціна: 13.1\n",
      "Медіанна ціна: 11.0\n"
     ]
    }
   ],
   "source": [
    "max_price = bestsellers['price'].max()  \n",
    "min_price = bestsellers['price'].min() \n",
    "mean_price = bestsellers['price'].mean()  \n",
    "median_price = bestsellers['price'].median()  \n",
    "\n",
    "print(f\"Максимальна ціна: {max_price}\")\n",
    "print(f\"Мінімальна ціна: {min_price}\")\n",
    "print(f\"Середня ціна: {mean_price}\")\n",
    "print(f\"Медіанна ціна: {median_price}\")\n"
   ]
  },
  {
   "cell_type": "code",
   "execution_count": 51,
   "id": "24c8c7cc-c61b-4f59-bf65-83b1280299bf",
   "metadata": {},
   "outputs": [
    {
     "name": "stdout",
     "output_type": "stream",
     "text": [
      "Відповідь:\n",
      "Найвищий рейтинг: 4.9\n"
     ]
    }
   ],
   "source": [
    "max_rating = bestsellers['user_rating'].max()\n",
    "print(\"Відповідь:\")\n",
    "print(f\"Найвищий рейтинг: {max_rating}\")"
   ]
  },
  {
   "cell_type": "code",
   "execution_count": 52,
   "id": "2166eefe-6cc9-4e5a-bef0-36f3bda7bd0d",
   "metadata": {},
   "outputs": [
    {
     "name": "stdout",
     "output_type": "stream",
     "text": [
      "Відповідь:\n",
      "user_rating\n",
      "4.8    127\n",
      "4.7    108\n",
      "4.6    105\n",
      "4.5     60\n",
      "4.9     52\n",
      "4.4     38\n",
      "4.3     25\n",
      "4.0     14\n",
      "4.2      8\n",
      "4.1      6\n",
      "3.9      3\n",
      "3.8      2\n",
      "3.6      1\n",
      "3.3      1\n",
      "Name: count, dtype: int64\n"
     ]
    }
   ],
   "source": [
    "rating_counts = bestsellers['user_rating'].value_counts()\n",
    "print(\"Відповідь:\")\n",
    "print(rating_counts)"
   ]
  },
  {
   "cell_type": "code",
   "execution_count": 53,
   "id": "dba22502-29d1-4987-a0b1-cdeb3dfe16b7",
   "metadata": {},
   "outputs": [
    {
     "name": "stdout",
     "output_type": "stream",
     "text": [
      "Відповідь:\n",
      "name           Where the Crawdads Sing\n",
      "author                     Delia Owens\n",
      "user_rating                        4.8\n",
      "reviews                          87841\n",
      "price                               15\n",
      "year                              2019\n",
      "genre                          Fiction\n",
      "Name: 534, dtype: object\n"
     ]
    }
   ],
   "source": [
    "max_reviews_book = bestsellers.loc[bestsellers['reviews'].idxmax()]\n",
    "print(\"Відповідь:\")\n",
    "print(max_reviews_book)"
   ]
  },
  {
   "cell_type": "code",
   "execution_count": 32,
   "id": "83ff6514-15a2-4023-ac22-76a18b4f5ca6",
   "metadata": {},
   "outputs": [
    {
     "name": "stdout",
     "output_type": "stream",
     "text": [
      "Відповідь:\n",
      "Name           Publication Manual of the American Psychologic...\n",
      "Author                        American Psychological Association\n",
      "User Rating                                                  4.5\n",
      "Reviews                                                     8580\n",
      "Price                                                         46\n",
      "Year                                                        2015\n",
      "Genre                                                Non Fiction\n",
      "Name: 277, dtype: object\n"
     ]
    }
   ],
   "source": [
    "top_50_2015 = bestsellers[(bestsellers['year'] == 2015) & (bestsellers['user_rating'] >= 4.5)]\n",
    "most_expensive_book_2015 = top_50_2015.loc[top_50_2015['price'].idxmax()]\n",
    "print(\"Відповідь:\")\n",
    "print(most_expensive_book_2015)"
   ]
  },
  {
   "cell_type": "code",
   "execution_count": 54,
   "id": "40e23abe-ec41-490f-accd-6b00c54c9b83",
   "metadata": {},
   "outputs": [
    {
     "name": "stdout",
     "output_type": "stream",
     "text": [
      "Кількість книг жанру 'Fiction' у Топ-50 у 2010 році: 20\n"
     ]
    }
   ],
   "source": [
    "fiction_books_2010 = bestsellers[(bestsellers['year'] == 2010) & (bestsellers['genre'] == 'Fiction')]\n",
    "num_fiction_books_2010 = len(fiction_books_2010)\n",
    "print(\"Кількість книг жанру 'Fiction' у Топ-50 у 2010 році:\", num_fiction_books_2010)"
   ]
  },
  {
   "cell_type": "code",
   "execution_count": 55,
   "id": "e264f3cf-6b3d-4da2-b217-ec987bf98af2",
   "metadata": {},
   "outputs": [
    {
     "name": "stdout",
     "output_type": "stream",
     "text": [
      "Кількість книг з рейтингом 4.9, що потрапили до рейтингу у 2010 та 2011 роках: 1\n"
     ]
    }
   ],
   "source": [
    "books_with_rating_2010_2011 = bestsellers[(bestsellers['user_rating'] == 4.9) & (bestsellers['year'].isin([2010, 2011]))]\n",
    "num_books_with_rating_2010_2011 = len(books_with_rating_2010_2011)\n",
    "print(\"Кількість книг з рейтингом 4.9, що потрапили до рейтингу у 2010 та 2011 роках:\", num_books_with_rating_2010_2011)"
   ]
  },
  {
   "cell_type": "code",
   "execution_count": 39,
   "id": "1841dc37-7a5c-4a33-ad3b-7b9b5a54e8aa",
   "metadata": {},
   "outputs": [
    {
     "name": "stdout",
     "output_type": "stream",
     "text": [
      "Сортований список книг 2015 року з ціною менше 8 доларів:\n",
      "                                                  Name              Author  \\\n",
      "507                              To Kill a Mockingbird          Harper Lee   \n",
      "210                      Laugh-Out-Loud Jokes for Kids         Rob Elliott   \n",
      "206                         Knock-Knock Jokes for Kids         Rob Elliott   \n",
      "111                                    First 100 Words        Roger Priddy   \n",
      "123                               Giraffes Can't Dance       Giles Andreae   \n",
      "54   Creative Haven Creative Cats Coloring Book (Ad...     Marjorie Sarnat   \n",
      "63                      Dear Zoo: A Lift-the-Flap Book        Rod Campbell   \n",
      "89   Dover Creative Haven Art Nouveau Animal Design...         Marty Noble   \n",
      "478                        The Very Hungry Caterpillar          Eric Carle   \n",
      "201  Killing Reagan: The Violent Assault That Chang...       Bill O'Reilly   \n",
      "28                        Baby Touch and Feel: Animals                  DK   \n",
      "224                                   Love You Forever       Robert Munsch   \n",
      "55   Creative Haven Owls Coloring Book (Adult Color...     Marjorie Sarnat   \n",
      "17      Adult Coloring Book: Stress Relieving Patterns  Blue Star Coloring   \n",
      "376  The Four Agreements: A Practical Guide to Pers...     Don Miguel Ruiz   \n",
      "16   Adult Coloring Book: Stress Relieving Animal D...  Blue Star Coloring   \n",
      "253              Old School (Diary of a Wimpy Kid #10)         Jeff Kinney   \n",
      "\n",
      "     User Rating  Reviews  Price  Year        Genre  \n",
      "507          4.8    26234      0  2015      Fiction  \n",
      "210          4.6     6990      4  2015  Non Fiction  \n",
      "206          4.5     3673      4  2015  Non Fiction  \n",
      "111          4.7    17323      4  2015  Non Fiction  \n",
      "123          4.8    14038      4  2015      Fiction  \n",
      "54           4.8     4022      4  2015  Non Fiction  \n",
      "63           4.8    10922      5  2015      Fiction  \n",
      "89           4.6     2134      5  2015  Non Fiction  \n",
      "478          4.9    19546      5  2015      Fiction  \n",
      "201          4.6     5235      5  2015  Non Fiction  \n",
      "28           4.6     5360      5  2015  Non Fiction  \n",
      "224          4.8    18613      5  2015      Fiction  \n",
      "55           4.8     3871      5  2015  Non Fiction  \n",
      "17           4.4     2951      6  2015  Non Fiction  \n",
      "376          4.7    23308      6  2015  Non Fiction  \n",
      "16           4.6     2925      6  2015  Non Fiction  \n",
      "253          4.8     6169      7  2015      Fiction  \n"
     ]
    }
   ],
   "source": [
    "books_2015_under_8_dollars = bestsellers[(bestsellers['Year'] == 2015) & (bestsellers['Price'] < 8)]\n",
    "sorted_books_2015_under_8_dollars = books_2015_under_8_dollars.sort_values(by='Price')\n",
    "print(\"Сортований список книг 2015 року з ціною менше 8 доларів:\")\n",
    "print(sorted_books_2015_under_8_dollars)"
   ]
  },
  {
   "cell_type": "code",
   "execution_count": 40,
   "id": "f960cacd-21d8-448f-98de-3c7cda4fe485",
   "metadata": {},
   "outputs": [
    {
     "name": "stdout",
     "output_type": "stream",
     "text": [
      "Остання книга у відсортованому списку:\n",
      "                                      Name       Author  User Rating  Reviews  \\\n",
      "253  Old School (Diary of a Wimpy Kid #10)  Jeff Kinney          4.8     6169   \n",
      "\n",
      "     Price  Year    Genre  \n",
      "253      7  2015  Fiction  \n"
     ]
    }
   ],
   "source": [
    "last_book = sorted_books_2015_under_8_dollars.tail(1)\n",
    "print(\"Остання книга у відсортованому списку:\")\n",
    "print(last_book)"
   ]
  },
  {
   "cell_type": "code",
   "execution_count": 66,
   "id": "a406faa6-5a35-4016-8713-3ddf69e74d87",
   "metadata": {},
   "outputs": [
    {
     "name": "stdout",
     "output_type": "stream",
     "text": [
      "Мінімальна та максимальна ціни для кожного жанру:\n",
      "             min  max\n",
      "genre                \n",
      "Fiction        0   82\n",
      "Non Fiction    0  105\n"
     ]
    },
    {
     "name": "stderr",
     "output_type": "stream",
     "text": [
      "C:\\Users\\User\\AppData\\Local\\Temp\\ipykernel_13836\\3297822499.py:2: FutureWarning: The provided callable <built-in function min> is currently using SeriesGroupBy.min. In a future version of pandas, the provided callable will be used directly. To keep current behavior pass the string \"min\" instead.\n",
      "  genre_price_stats = bestsellers.groupby('genre')['price'].agg([min, max])\n",
      "C:\\Users\\User\\AppData\\Local\\Temp\\ipykernel_13836\\3297822499.py:2: FutureWarning: The provided callable <built-in function max> is currently using SeriesGroupBy.max. In a future version of pandas, the provided callable will be used directly. To keep current behavior pass the string \"max\" instead.\n",
      "  genre_price_stats = bestsellers.groupby('genre')['price'].agg([min, max])\n"
     ]
    }
   ],
   "source": [
    "# Агрегування даних та з'єднання таблиць\n",
    "genre_price_stats = bestsellers.groupby('genre')['price'].agg([min, max])\n",
    "print(\"Мінімальна та максимальна ціни для кожного жанру:\")\n",
    "print(genre_price_stats)"
   ]
  },
  {
   "cell_type": "code",
   "execution_count": 58,
   "id": "8ea85e99-8a66-4927-9db6-6cf5ecfb8a5f",
   "metadata": {},
   "outputs": [
    {
     "name": "stdout",
     "output_type": "stream",
     "text": [
      "Максимальна ціна для жанру 'Fiction': 82\n"
     ]
    }
   ],
   "source": [
    "max_price_fiction = genre_price_stats.loc['Fiction', 'max']\n",
    "print(f\"Максимальна ціна для жанру 'Fiction': {max_price_fiction}\")"
   ]
  },
  {
   "cell_type": "code",
   "execution_count": 62,
   "id": "640a6507-eaa8-4183-ab85-bfebcc5dd3cb",
   "metadata": {},
   "outputs": [
    {
     "name": "stdout",
     "output_type": "stream",
     "text": [
      "Мінімальна ціна для жанру 'Fiction': 0\n"
     ]
    }
   ],
   "source": [
    "min_price_fiction = genre_price_stats.loc['Fiction', 'min']\n",
    "print(f\"Мінімальна ціна для жанру 'Fiction': {min_price_fiction}\")"
   ]
  },
  {
   "cell_type": "code",
   "execution_count": 63,
   "id": "55b486e9-a528-4b39-94c1-1be815dd003c",
   "metadata": {},
   "outputs": [
    {
     "name": "stdout",
     "output_type": "stream",
     "text": [
      "Максимальна ціна для жанру 'Non Fiction': 105\n"
     ]
    }
   ],
   "source": [
    "max_price_none_fiction = genre_price_stats.loc['Non Fiction', 'max']\n",
    "print(f\"Максимальна ціна для жанру 'Non Fiction': {max_price_none_fiction}\")"
   ]
  },
  {
   "cell_type": "code",
   "execution_count": 64,
   "id": "d505f06a-ca67-476a-af9a-367ba362bdff",
   "metadata": {},
   "outputs": [
    {
     "name": "stdout",
     "output_type": "stream",
     "text": [
      "Мінімальна ціна для жанру 'Non Fiction': 0\n"
     ]
    }
   ],
   "source": [
    "min_price_none_fiction = genre_price_stats.loc['Non Fiction', 'min']\n",
    "print(f\"Мінімальна ціна для жанру 'Non Fiction': {min_price_none_fiction}\")"
   ]
  },
  {
   "cell_type": "code",
   "execution_count": 65,
   "id": "acef9390-8c77-4bf0-992e-3c72e554a637",
   "metadata": {},
   "outputs": [
    {
     "name": "stdout",
     "output_type": "stream",
     "text": [
      "                          Автор  Кількість книг\n",
      "0              Abraham Verghese               2\n",
      "1                Adam Gasiewski               1\n",
      "2                 Adam Mansbach               1\n",
      "3                     Adir Levy               1\n",
      "4    Admiral William H. McRaven               1\n",
      "..                          ...             ...\n",
      "243             Walter Isaacson               3\n",
      "244               William Davis               2\n",
      "245            William P. Young               2\n",
      "246            Wizards RPG Team               3\n",
      "247                Zhi Gang Sha               2\n",
      "\n",
      "[248 rows x 2 columns]\n"
     ]
    }
   ],
   "source": [
    "author_book_count = bestsellers.groupby('author')['name'].count().reset_index()\n",
    "author_book_count.columns = ['Автор', 'Кількість книг']\n",
    "print(author_book_count)"
   ]
  },
  {
   "cell_type": "code",
   "execution_count": 69,
   "id": "76220763-f496-4fcf-8b95-39046b6438d6",
   "metadata": {},
   "outputs": [
    {
     "name": "stdout",
     "output_type": "stream",
     "text": [
      "розмірності вийшла: 120\n"
     ]
    }
   ],
   "source": [
    "max_books_author_idx = author_book_count['Кількість книг'].idxmax()\n",
    "print(f\"розмірності вийшла: {max_books_author_idx}\")"
   ]
  },
  {
   "cell_type": "code",
   "execution_count": 70,
   "id": "33fe78fb-6c93-4a39-98c1-2092cc72b72d",
   "metadata": {},
   "outputs": [
    {
     "name": "stdout",
     "output_type": "stream",
     "text": [
      "Автор з найбільшою кількістю книг: Jeff Kinney\n"
     ]
    }
   ],
   "source": [
    "most_prolific_author = author_book_count.loc[max_books_author_idx, 'Автор']\n",
    "print(f\"Автор з найбільшою кількістю книг: {most_prolific_author}\")"
   ]
  },
  {
   "cell_type": "code",
   "execution_count": 71,
   "id": "15bfcd09-5832-4cf8-934f-cc6533584b8c",
   "metadata": {},
   "outputs": [
    {
     "name": "stdout",
     "output_type": "stream",
     "text": [
      "Кількість книг цього автора: 12\n"
     ]
    }
   ],
   "source": [
    "num_books_by_most_prolific_author = author_book_count.loc[max_books_author_idx, 'Кількість книг']\n",
    "print(f\"Кількість книг цього автора: {num_books_by_most_prolific_author}\")"
   ]
  },
  {
   "cell_type": "code",
   "execution_count": null,
   "id": "3ce9349f-3ddb-476e-a192-52a13defb5f1",
   "metadata": {},
   "outputs": [],
   "source": []
  }
 ],
 "metadata": {
  "kernelspec": {
   "display_name": "Python 3 (ipykernel)",
   "language": "python",
   "name": "python3"
  },
  "language_info": {
   "codemirror_mode": {
    "name": "ipython",
    "version": 3
   },
   "file_extension": ".py",
   "mimetype": "text/x-python",
   "name": "python",
   "nbconvert_exporter": "python",
   "pygments_lexer": "ipython3",
   "version": "3.11.3"
  }
 },
 "nbformat": 4,
 "nbformat_minor": 5
}
